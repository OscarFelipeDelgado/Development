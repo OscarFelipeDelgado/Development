{
  "nbformat": 4,
  "nbformat_minor": 0,
  "metadata": {
    "colab": {
      "provenance": [],
      "include_colab_link": true
    },
    "kernelspec": {
      "name": "python3",
      "display_name": "Python 3"
    },
    "language_info": {
      "name": "python"
    }
  },
  "cells": [
    {
      "cell_type": "markdown",
      "metadata": {
        "id": "view-in-github",
        "colab_type": "text"
      },
      "source": [
        "<a href=\"https://colab.research.google.com/github/OscarFelipeDelgado/Development/blob/main/KNN_Delgado%2C_Aroca%2C_Sanchez%2C_Bohorques.ipynb\" target=\"_parent\"><img src=\"https://colab.research.google.com/assets/colab-badge.svg\" alt=\"Open In Colab\"/></a>"
      ]
    },
    {
      "cell_type": "code",
      "source": [
        "import numpy as np\n",
        "from collections import Counter\n",
        "\n",
        "class KNN:\n",
        "    def __init__(self, k=3):\n",
        "        self.k = k\n",
        "\n",
        "    def aprendizaje(self,X,C):\n",
        "        self.X=X # matriz de vectores de caracteristicas\n",
        "        self.c=C # clases asociadas a cada vector x(n)\n",
        "        self.n_muestras=X.shape[1] # cantidad de muestras\n",
        "\n",
        "    def clasificacion(self,Y):\n",
        "        clases=[]\n",
        "        for i in range(Y.shape[1]): # por cada vector y(n) a clasificar\n",
        "            distancias=np.empty(self.n_muestras)\n",
        "            for n in range(self.n_muestras): # por cada vector x(n) de caracteristicas\n",
        "                distancias[n]=EUCLIDIANA(self.X[:,n],Y[:,i])\n",
        "\n",
        "            # distancias mas cercanas\n",
        "            k_distancias=np.argsort(distancias)\n",
        "            # identificar las k distancias - clases\n",
        "            k_etiqueta=self.c[k_distancias[:self.k]]\n",
        "            print(k_etiqueta)\n",
        "            # votacion\n",
        "            c = Counter(k_etiqueta).most_common(1)#(5,0)\n",
        "            clases.append(c[0][0]) # almacenamos la clase asignada al vector y(n)\n",
        "        return clases\n",
        "\n",
        "\n",
        "def EUCLIDIANA(x,y):\n",
        "    return np.sqrt(np.sum((x-y)**2))"
      ],
      "metadata": {
        "id": "RgL4fWDXWBZ8"
      },
      "execution_count": null,
      "outputs": []
    },
    {
      "cell_type": "code",
      "execution_count": null,
      "metadata": {
        "colab": {
          "base_uri": "https://localhost:8080/",
          "height": 559
        },
        "id": "Bb2ELrHcN5d0",
        "outputId": "225ff248-85d4-4526-9e1b-6d7b9fec67ca"
      },
      "outputs": [
        {
          "output_type": "stream",
          "name": "stderr",
          "text": [
            "WARNING:matplotlib.legend:No artists with labels found to put in legend.  Note that artists whose label start with an underscore are ignored when legend() is called with no argument.\n"
          ]
        },
        {
          "output_type": "stream",
          "name": "stdout",
          "text": [
            "[1 1 0 0 0 0 1 1 0 0 0 0 1 1 1]\n",
            "[1 1 1 1 1 1 1 1 1 1 0 0 0 0 0]\n",
            "[0 0 0 0 0 0 0 0 0 0 1 1 1 1 1]\n",
            "clases de los puntos y(n):  [0, 1, 0]\n"
          ]
        },
        {
          "output_type": "display_data",
          "data": {
            "text/plain": [
              "<Figure size 640x480 with 1 Axes>"
            ],
            "image/png": "[encoded data removed]"
          },
          "metadata": {}
        }
      ],
      "source": [
        "import numpy as np\n",
        "import matplotlib.pyplot as plt\n",
        "#from knn import KNN\n",
        "\n",
        "# x(n)--< Peso kg,Est. mtrs >---\n",
        "x1=np.array([[49],[1.43]]) # ninos\n",
        "x2=np.array([[51],[1.55]])\n",
        "x3=np.array([[57],[1.58]])\n",
        "x4=np.array([[47],[1.55]])\n",
        "x5=np.array([[54],[1.60]])\n",
        "x6=np.array([[56],[1.58]])\n",
        "x7=np.array([[59],[1.64]])\n",
        "x8=np.array([[53],[1.61]])\n",
        "x9=np.array([[58],[1.63]])\n",
        "x10=np.array([[52],[1.60]]) # adultos\n",
        "x11=np.array([[75],[1.73]])\n",
        "x12=np.array([[80],[1.75]])\n",
        "x13=np.array([[75],[1.69]])\n",
        "x14=np.array([[65],[1.71]])\n",
        "x15=np.array([[75],[1.79]])\n",
        "x16=np.array([[77],[1.76]])\n",
        "x17=np.array([[65],[1.71]])\n",
        "x18=np.array([[70],[1.70]])\n",
        "x19=np.array([[78],[1.81]])\n",
        "x20=np.array([[70],[1.67]])\n",
        "\n",
        "c0=np.zeros(10)\n",
        "c1=np.ones(10)\n",
        "\n",
        "X=np.concatenate((x1,x2,x3,x4,x5,x6,x7,x8,x9,x10,x11,x12,x13,x14,x15,x16,x17,x18,x19,x20),axis=1)\n",
        "C=np.concatenate((c0,c1),axis=0)\n",
        "C=np.uint8(C)\n",
        "\n",
        "# nuevos datos a clasificar con KNN\n",
        "y1=np.array([[62],[1.73]])\n",
        "y2=np.array([[70],[1.78]])\n",
        "y3=np.array([[53],[1.68]])\n",
        "Y=np.concatenate((y1,y2,y3),axis=1)\n",
        "\n",
        "for i in range(X.shape[1]):\n",
        "    if C[i]==0:\n",
        "        marcar='v'\n",
        "        color='red'\n",
        "    else:\n",
        "        marcar='o'\n",
        "        color='blue'\n",
        "    plt.scatter(x=X[0,i],y=X[1,i],c=color,s=100,marker=marcar)\n",
        "\n",
        "for j in range(Y.shape[1]):\n",
        "    plt.scatter(x=Y[0,j],y=Y[1,j],c='black',s=100,marker='s')\n",
        "\n",
        "plt.xlabel('Peso (kg)')\n",
        "plt.ylabel('Estatura (m)')\n",
        "plt.title('Clasificador KNN')\n",
        "plt.legend()\n",
        "\n",
        "# iniciar KNN\n",
        "clasificador = KNN(k=15)\n",
        "clasificador.aprendizaje(X,C) # fase de aprendizaje\n",
        "clasificar = clasificador.clasificacion(Y)\n",
        "print('clases de los puntos y(n): ',clasificar)"
      ]
    }
  ]
}